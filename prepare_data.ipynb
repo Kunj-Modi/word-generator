{
 "cells": [
  {
   "cell_type": "code",
   "execution_count": 1,
   "metadata": {},
   "outputs": [
    {
     "data": {
      "text/plain": [
       "'THE\\t53097401461\\nOF\\t30966074232\\nAND\\t22632024504\\nTO\\t19347398077\\nIN\\t16891065263\\nA\\t15310087895\\nIS\\t838424'"
      ]
     },
     "execution_count": 1,
     "metadata": {},
     "output_type": "execute_result"
    }
   ],
   "source": [
    "with open(\"google-books-common-words.txt\") as file:\n",
    "    text = file.read()\n",
    "text[:100]"
   ]
  },
  {
   "cell_type": "code",
   "execution_count": 6,
   "metadata": {},
   "outputs": [
    {
     "data": {
      "text/plain": [
       "['THE',\n",
       " '53097401461',\n",
       " 'OF',\n",
       " '30966074232',\n",
       " 'AND',\n",
       " '22632024504',\n",
       " 'TO',\n",
       " '19347398077',\n",
       " 'IN',\n",
       " '16891065263']"
      ]
     },
     "execution_count": 6,
     "metadata": {},
     "output_type": "execute_result"
    }
   ],
   "source": [
    "text_list = text.split()\n",
    "text_list[:10]"
   ]
  },
  {
   "cell_type": "code",
   "execution_count": 12,
   "metadata": {},
   "outputs": [
    {
     "data": {
      "text/plain": [
       "['the',\n",
       " 'of',\n",
       " 'and',\n",
       " 'to',\n",
       " 'in',\n",
       " 'a',\n",
       " 'is',\n",
       " 'that',\n",
       " 'for',\n",
       " 'it',\n",
       " 'meisner',\n",
       " 'naguib',\n",
       " 'enshrining',\n",
       " 'centralising',\n",
       " 'dvi',\n",
       " 'oilmen',\n",
       " 'evang',\n",
       " 'xxl',\n",
       " 'losey',\n",
       " 'westergaard']"
      ]
     },
     "execution_count": 12,
     "metadata": {},
     "output_type": "execute_result"
    }
   ],
   "source": [
    "words = [text_list[i].lower() for i in range(0, len(text_list), 2)]\n",
    "words[:10] + words[-10:]"
   ]
  },
  {
   "cell_type": "code",
   "execution_count": 14,
   "metadata": {},
   "outputs": [
    {
     "data": {
      "text/plain": [
       "97565"
      ]
     },
     "execution_count": 14,
     "metadata": {},
     "output_type": "execute_result"
    }
   ],
   "source": [
    "len(words)"
   ]
  },
  {
   "cell_type": "code",
   "execution_count": 19,
   "metadata": {},
   "outputs": [
    {
     "data": {
      "text/plain": [
       "'the\\nof\\nand\\nto\\nin\\na\\nis\\nthat\\nfor\\nit\\nas\\nwas\\nwith\\nbe\\nby\\non\\nnot\\nhe\\ni\\nthis\\nare\\nor\\nhis\\nfrom\\nat\\nwhich\\nbut\\nha'"
      ]
     },
     "execution_count": 19,
     "metadata": {},
     "output_type": "execute_result"
    }
   ],
   "source": [
    "new_text = \"\\n\".join(words)\n",
    "new_text[:100]"
   ]
  },
  {
   "cell_type": "code",
   "execution_count": 20,
   "metadata": {},
   "outputs": [],
   "source": [
    "with open(\"most_used_words.txt\", \"w\") as file:\n",
    "    file.write(new_text)"
   ]
  }
 ],
 "metadata": {
  "kernelspec": {
   "display_name": "Python 3",
   "language": "python",
   "name": "python3"
  },
  "language_info": {
   "codemirror_mode": {
    "name": "ipython",
    "version": 3
   },
   "file_extension": ".py",
   "mimetype": "text/x-python",
   "name": "python",
   "nbconvert_exporter": "python",
   "pygments_lexer": "ipython3",
   "version": "3.12.0"
  }
 },
 "nbformat": 4,
 "nbformat_minor": 2
}
