{
 "cells": [
  {
   "cell_type": "code",
   "execution_count": 839,
   "metadata": {},
   "outputs": [],
   "source": [
    "block_size = 3\n",
    "Cdim = 10\n",
    "seed = 8566354565"
   ]
  },
  {
   "cell_type": "code",
   "execution_count": 840,
   "metadata": {},
   "outputs": [
    {
     "data": {
      "text/plain": [
       "97565"
      ]
     },
     "execution_count": 840,
     "metadata": {},
     "output_type": "execute_result"
    }
   ],
   "source": [
    "with open(\"most_used_words.txt\") as file:\n",
    "    words = file.read().split()\n",
    "len(words)"
   ]
  },
  {
   "cell_type": "code",
   "execution_count": 841,
   "metadata": {},
   "outputs": [],
   "source": [
    "chars = sorted(set(\".\".join(words)))\n",
    "atoi = {a:i for i,a in enumerate(chars)}\n",
    "itoa = {i:a for i,a in enumerate(chars)}"
   ]
  },
  {
   "cell_type": "code",
   "execution_count": 842,
   "metadata": {},
   "outputs": [],
   "source": [
    "import torch"
   ]
  },
  {
   "cell_type": "code",
   "execution_count": 843,
   "metadata": {},
   "outputs": [],
   "source": [
    "def prepare_dataset(words):\n",
    "    X, Y = [], []\n",
    "    for word in words:\n",
    "        st = [0] * block_size\n",
    "        for ch in word+\".\":\n",
    "            X.append(st)\n",
    "            Y.append(atoi[ch])\n",
    "            st = st[1:] + [atoi[ch]]\n",
    "    X = torch.tensor(X)\n",
    "    Y = torch.tensor(Y)\n",
    "\n",
    "    return X, Y"
   ]
  },
  {
   "cell_type": "code",
   "execution_count": 844,
   "metadata": {},
   "outputs": [
    {
     "data": {
      "text/plain": [
       "(torch.Size([670727, 3]), torch.Size([83673, 3]), torch.Size([84292, 3]))"
      ]
     },
     "execution_count": 844,
     "metadata": {},
     "output_type": "execute_result"
    }
   ],
   "source": [
    "# Preparing data\n",
    "import random\n",
    "random.seed(77)\n",
    "random.shuffle(words)\n",
    "\n",
    "n1 = int(0.8*len(words))\n",
    "n2 = int(0.9*len(words))\n",
    "\n",
    "Xtr, Ytr = prepare_dataset(words[:n1])\n",
    "Xdev, Ydev = prepare_dataset(words[n1:n2])\n",
    "Xte, Yte = prepare_dataset(words[n2:])\n",
    "Xtr.shape, Xdev.shape, Xte.shape"
   ]
  },
  {
   "cell_type": "code",
   "execution_count": 845,
   "metadata": {},
   "outputs": [
    {
     "data": {
      "text/plain": [
       "11897"
      ]
     },
     "execution_count": 845,
     "metadata": {},
     "output_type": "execute_result"
    }
   ],
   "source": [
    "g = torch.Generator().manual_seed(seed)\n",
    "C = torch.randn((27, Cdim), generator=g)\n",
    "W1 = torch.randn((Cdim*block_size, 200), generator=g)\n",
    "b1 = torch.randn((200), generator=g)\n",
    "W2 = torch.randn((200, 27), generator=g)\n",
    "b2 = torch.randn((27), generator=g)\n",
    "parameters = [C, W1, b1, W2, b2]\n",
    "for parm in parameters:\n",
    "    parm.requires_grad = True\n",
    "sum(parm.nelement() for parm in parameters)"
   ]
  },
  {
   "cell_type": "code",
   "execution_count": 846,
   "metadata": {},
   "outputs": [
    {
     "name": "stdout",
     "output_type": "stream",
     "text": [
      "25.809968948364258\n",
      "2.777660608291626\n",
      "2.6043267250061035\n",
      "2.6095633506774902\n",
      "2.464766502380371\n",
      "2.491333246231079\n",
      "2.450813055038452\n",
      "2.2223892211914062\n",
      "2.6658132076263428\n",
      "2.8251757621765137\n",
      "2.679687261581421\n",
      "2.5435519218444824\n",
      "2.4230458736419678\n",
      "2.5283854007720947\n",
      "2.0144906044006348\n",
      "2.3614447116851807\n",
      "2.617199420928955\n",
      "2.2770345211029053\n",
      "2.255686044692993\n",
      "2.448884963989258\n",
      "2.7411715984344482\n"
     ]
    }
   ],
   "source": [
    "bg = torch.Generator().manual_seed(seed)\n",
    "for i in range(100000):\n",
    "    # batch\n",
    "    ix = torch.randint(0, Xtr.shape[0], (50,), generator=bg)\n",
    "    # forward\n",
    "    h = torch.tanh(C[Xtr[ix]].view(-1, Cdim*block_size) @ W1 + b1)\n",
    "    logits = h @ W2 + b2\n",
    "    loss = torch.nn.functional.cross_entropy(logits, Ytr[ix])\n",
    "    # backward\n",
    "    for parm in parameters:\n",
    "        parm.grad = None\n",
    "    loss.backward()\n",
    "    # update\n",
    "    lr = 0.1 if i<50000 else 0.01\n",
    "    for parm in parameters:\n",
    "        parm.data += -lr*parm.grad\n",
    "    if i%5000==0: print(loss.item())\n",
    "print(loss.item())"
   ]
  },
  {
   "cell_type": "code",
   "execution_count": 847,
   "metadata": {},
   "outputs": [
    {
     "name": "stdout",
     "output_type": "stream",
     "text": [
      "2.335796356201172\n"
     ]
    }
   ],
   "source": [
    "h = torch.tanh(C[Xtr].view(-1, Cdim*block_size) @ W1 + b1)\n",
    "logits = h @ W2 + b2\n",
    "loss = torch.nn.functional.cross_entropy(logits, Ytr)\n",
    "print(loss.item())"
   ]
  },
  {
   "cell_type": "code",
   "execution_count": 848,
   "metadata": {},
   "outputs": [
    {
     "name": "stdout",
     "output_type": "stream",
     "text": [
      "2.343080759048462\n"
     ]
    }
   ],
   "source": [
    "h = torch.tanh(C[Xdev].view(-1, Cdim*block_size) @ W1 + b1)\n",
    "logits = h @ W2 + b2\n",
    "loss = torch.nn.functional.cross_entropy(logits, Ydev)\n",
    "print(loss.item())"
   ]
  },
  {
   "cell_type": "code",
   "execution_count": 849,
   "metadata": {},
   "outputs": [
    {
     "name": "stdout",
     "output_type": "stream",
     "text": [
      "2.3401174545288086\n"
     ]
    }
   ],
   "source": [
    "h = torch.tanh(C[Xte].view(-1, Cdim*block_size) @ W1 + b1)\n",
    "logits = h @ W2 + b2\n",
    "loss = torch.nn.functional.cross_entropy(logits, Yte)\n",
    "print(loss.item())"
   ]
  },
  {
   "cell_type": "code",
   "execution_count": 850,
   "metadata": {},
   "outputs": [
    {
     "name": "stdout",
     "output_type": "stream",
     "text": [
      "carted.\n",
      "valandy.\n",
      "cotion.\n",
      "caratived.\n",
      "usly.\n",
      "but.\n",
      "dew.\n",
      "tarncturwazorye.\n",
      "rein.\n",
      "deloneron.\n"
     ]
    }
   ],
   "source": [
    "g = torch.Generator().manual_seed(seed)\n",
    "for _ in range(10):\n",
    "    out = \"\"\n",
    "    st = [0]*block_size\n",
    "    while True:\n",
    "        h = torch.tanh(C[torch.tensor(st)].view(-1, Cdim*block_size) @ W1 + b1)\n",
    "        logits = h @ W2 + b2\n",
    "        prob = torch.nn.functional.softmax(logits, dim=1)\n",
    "        ix = torch.multinomial(prob, num_samples=1, generator=g).item()\n",
    "        out += itoa[ix]\n",
    "        st = st[1:] + [ix]\n",
    "        print(itoa[ix], end=\"\")\n",
    "        if(ix==0): break\n",
    "    print()"
   ]
  }
 ],
 "metadata": {
  "kernelspec": {
   "display_name": "venv",
   "language": "python",
   "name": "python3"
  },
  "language_info": {
   "codemirror_mode": {
    "name": "ipython",
    "version": 3
   },
   "file_extension": ".py",
   "mimetype": "text/x-python",
   "name": "python",
   "nbconvert_exporter": "python",
   "pygments_lexer": "ipython3",
   "version": "3.12.0"
  }
 },
 "nbformat": 4,
 "nbformat_minor": 2
}
